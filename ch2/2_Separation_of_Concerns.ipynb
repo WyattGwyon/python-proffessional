{
 "cells": [
  {
   "cell_type": "markdown",
   "metadata": {},
   "source": [
    "## Classes\n",
    "\n",
    "It is important to observe when certain functions tend to work together, that is when you see that you are frequently passing the result of one function to another, or that different functions are using the same input. \n",
    "\n",
    "That's how a Class starts to emerge.\n",
    "\n",
    "They are templates which define a behavior, and create **objects** when data is added.\n",
    "<br>*Objects* are *instances* of a class.\n",
    "<br>*Data* becomes the *state* of the object. It is *attributed* to the object and therefore forms the object's *attributes*.\n",
    "\n",
    "The behaviors defined by the template are the *methods* of the class.\n",
    "<br>*Methods* are functions that recieve the object *instance*(data) as an additional argument named *self*.\n",
    "<br>The *methods* change the state of the *instance* (data). \n",
    "\n",
    "Together *methods (behaviors) and attributes (transformed data)* are *members* of a class.\n",
    "\n",
    "*Contructors* are special methods that create an instance of a class."
   ]
  },
  {
   "cell_type": "markdown",
   "metadata": {},
   "source": [
    "![An Illustration of the Structure of the RockPaperScissors Program](../images/Fig_2_3.png)"
   ]
  },
  {
   "cell_type": "markdown",
   "metadata": {},
   "source": [
    "We recognize everything here in the list of functions and attributes but `simulate()` is new. It is the code that will hold all the other methods. I had defined it in my code as `play_rockpaperscissors()`."
   ]
  },
  {
   "cell_type": "code",
   "execution_count": 2,
   "metadata": {},
   "outputs": [],
   "source": [
    "import random\n",
    "\n",
    "OPTIONS = ['rock', 'paper', 'scissors']\n",
    "\n",
    "\n",
    "class RockPaperScissorsSimulator:\n",
    "    def get_computer_choice(self):  # Methods need a 'self' argument\n",
    "        return random.choice(OPTIONS)\n",
    "    \n",
    "    \n",
    "    def get_human_choice(self):\n",
    "        choice_number = int(input('Enter the number of your choice: '))\n",
    "        return OPTIONS[choice_number - 1]\n",
    "    \n",
    "    \n",
    "    def print_options(self):\n",
    "        print('\\n'.join(f'({i}) {option.title()}' for i, option in enumerate(OPTIONS)))\n",
    "        \n",
    "        \n",
    "    def print_choices(self,human_choice, computer_choice):\n",
    "        print(f'You chose {human_choice}')\n",
    "        print(f'The computer chose {computer_choice}')\n",
    "\n",
    "\n",
    "    def print_win_lose(self, human_choice, computer_choice, human_beats, human_loses_to):\n",
    "        if computer_choice == human_loses_to:\n",
    "            print(f'Sorry, {computer_choice} beats {human_choice}')\n",
    "        elif computer_choice == human_beats:\n",
    "            print(f'Yes, {human_choice} beats {computer_choice}!')\n",
    "\n",
    "\n",
    "    def print_result(self, human_choice, computer_choice):\n",
    "        if human_choice == computer_choice:\n",
    "            print('Draw')\n",
    "\n",
    "        if human_choice == 'rock':\n",
    "            self.print_win_lose('rock', computer_choice, 'scissors', 'paper')\n",
    "        elif human_choice == 'paper':\n",
    "            self.print_win_lose('paper', computer_choice, 'rock', 'scissors')\n",
    "        elif human_choice == 'scissors':\n",
    "            self.print_win_lose('scissors', computer_choice, 'paper', 'rock')\n",
    "            \n",
    "    \n",
    "    def simulate(self):\n",
    "        self.print_options()\n",
    "        human_choice = self.get_human_choice()\n",
    "        computer_choice = self.get_computer_choice()\n",
    "        self.print_choices(human_choice, computer_choice)\n",
    "        self.print_result(human_choice, computer_choice)"
   ]
  },
  {
   "cell_type": "markdown",
   "metadata": {},
   "source": [
    "If you notice, not a lot of things have changed. We still have a lot of the same information being passed between functions like `human_choice` and `computer_choice`."
   ]
  },
  {
   "cell_type": "code",
   "execution_count": 10,
   "metadata": {},
   "outputs": [],
   "source": [
    "import random\n",
    "\n",
    "OPTIONS = ['rock', 'paper', 'scissors']\n",
    "\n",
    "\n",
    "class RockPaperScissorsSimulator:\n",
    "    # This the contructor that will create the instance of the class.\n",
    "    def __init__(self): \n",
    "        self.computer_choice = None\n",
    "        self.human_choice = None\n",
    "        \n",
    "    # The following functions are all the different behaviours of the class    \n",
    "    def get_computer_choice(self):                      # Now we have removed the 'return' \n",
    "        self.computer_choice = random.choice(OPTIONS)   # and saving the values as an attribute of the class.\n",
    "                                                       \n",
    "    \n",
    "    \n",
    "    def get_human_choice(self):\n",
    "        choice_number = int(input('Enter the number of your choice: '))\n",
    "        self.human_choice = OPTIONS[choice_number - 1]\n",
    "    \n",
    "    \n",
    "    def print_options(self):\n",
    "        print('\\n'.join(f'({i}) {option.title()}' for i, option in enumerate(OPTIONS)))\n",
    "        \n",
    "    # Here we simple call the attribute of the class and we don't have to pass it as an argument    \n",
    "    def print_choices(self):\n",
    "        print(f'You chose {self.human_choice}')\n",
    "        print(f'The computer chose {self.computer_choice}')  # But we must remember to add the 'self' prefix.\n",
    "\n",
    "\n",
    "    def print_win_lose(self, human_beats, human_loses_to):   # Again we drop the arguments that are attributes\n",
    "        if self.computer_choice == human_loses_to: # human_loses_to is not an attribute so it recieves no 'self' prefix\n",
    "            print(f'Sorry, {self.computer_choice} beats {self.human_choice}')\n",
    "        elif self.computer_choice == human_beats:  # same here as previous comment\n",
    "            print(f'Yes, {self.human_choice} beats {self.computer_choice}!')\n",
    "\n",
    "\n",
    "    def print_result(self):\n",
    "        if self.human_choice == self.computer_choice:\n",
    "            print('Draw')\n",
    "\n",
    "        if self.human_choice == 'rock':\n",
    "            self.print_win_lose('scissors', 'paper')  # Because they are attributes \n",
    "        elif self.human_choice == 'paper':                 # the human and computer_choice are not passed\n",
    "            self.print_win_lose('rock', 'scissors')\n",
    "        elif self.human_choice == 'scissors':\n",
    "            self.print_win_lose('paper', 'rock')\n",
    "            \n",
    "    \n",
    "    def simulate(self):\n",
    "        self.print_options()\n",
    "        self.get_human_choice()    # Now we don't have to save the output of the function to a variable \n",
    "        self.get_computer_choice() # Our instance contains these values as attributes \n",
    "        self.print_choices()\n",
    "        self.print_result()        "
   ]
  },
  {
   "cell_type": "code",
   "execution_count": 11,
   "metadata": {},
   "outputs": [
    {
     "name": "stdout",
     "output_type": "stream",
     "text": [
      "(0) Rock\n",
      "(1) Paper\n",
      "(2) Scissors\n",
      "Enter the number of your choice: 2\n",
      "You chose paper\n",
      "The computer chose rock\n",
      "Yes, paper beats rock!\n"
     ]
    }
   ],
   "source": [
    "RPS = RockPaperScissorsSimulator() # This is our template/class saved to an easy to type variable\n",
    "RPS.simulate()"
   ]
  },
  {
   "cell_type": "markdown",
   "metadata": {},
   "source": [
    "This was a process of decomposition. \n",
    "\n",
    "When a classes attributes and methods are closely related it is said to have high *cohesion*, which means it makes sense as a whole and concerns are well separated. There are not too many *concerns* in the *class*.\n",
    "\n",
    "If a class depends on another class those classes are said to be ***coupled***.\n",
    "<br>If changing details in one class means you must change details in another class they are ***tighyly coupled***.\n",
    "\n",
    "We ultimately want to a create ***loosely coupled*** and ***highly cohesive*** classes."
   ]
  },
  {
   "cell_type": "markdown",
   "metadata": {},
   "source": [
    "## Modules and Packages"
   ]
  },
  {
   "cell_type": "markdown",
   "metadata": {},
   "source": [
    "Valid code in a `.py` file is already a ***module***.\n",
    "\n",
    "Eventually, code will become so long that you need to separate them into other `.py` modules. The clearest code is the code you don't write: every line adds cognitive load. Next best thing to *no* code is *well-organized* code."
   ]
  },
  {
   "cell_type": "markdown",
   "metadata": {},
   "source": [
    "***Packages*** are directories that contain modules and contain a special module to indicate that it is a *package* called `__init__.py` . \n",
    "\n",
    "Be careful because *packages* also refer to 3rd party libraries you can install from the Python Package Index (PyPI). *This is different.*\n",
    "\n"
   ]
  },
  {
   "cell_type": "markdown",
   "metadata": {},
   "source": [
    "Let's say we have these two modules:\n",
    "\n",
    "        .\n",
    "        |_ query.py\n",
    "        |_ record.py\n",
    "\n",
    "And now we want to add another `query` module but not a query for records....but for database. We need to rename the queries:\n",
    "\n",
    "        .\n",
    "        |_ search_query.py\n",
    "        |_ records.py\n",
    "        |_ database_query.py\n",
    "\n",
    "This makes a redundancy with the word `query`. That can be fixed by creating a **package**\n",
    "\n",
    "        .\n",
    "        |_  database\n",
    "        |   |_  __init__.py\n",
    "        |   |_  query.py\n",
    "        |   |_  record.py\n",
    "        |\n",
    "        |_  search\n",
    "            |_  __init__.py\n",
    "            |_  query.py\n",
    "            \n",
    "\n",
    "Now it makes an easier to read command.\n",
    "\n",
    "    import database.query\n",
    "    import search.query\n",
    "    \n",
    "or\n",
    "\n",
    "    from database import query as db_query\n",
    "    from search import query as search_query\n",
    "    \n",
    "\n",
    "If you want to nest packages you can create another level to the structure:\n",
    "\n",
    "    .\n",
    "    |_ math\n",
    "       |_  __init__.py\n",
    "       |\n",
    "       |_  statistics \n",
    "       |   |_  __init__.py\n",
    "       |   |_  std.py\n",
    "       |   |_  cdf.py\n",
    "       |\n",
    "       |_  calculus\n",
    "           |_  __init__.py \n",
    "           |_  integral.py\n",
    "    \n",
    "Now you can import them like this:\n",
    "\n",
    "    from math.calculus import integral\n",
    "or\n",
    "    \n",
    "    import math.calculus.integral\n",
    "    \n",
    "but this last one will not work.\n",
    "    \n",
    "    from math import calculus.integral"
   ]
  },
  {
   "cell_type": "code",
   "execution_count": null,
   "metadata": {},
   "outputs": [],
   "source": []
  }
 ],
 "metadata": {
  "kernelspec": {
   "display_name": "Python 3",
   "language": "python",
   "name": "python3"
  },
  "language_info": {
   "codemirror_mode": {
    "name": "ipython",
    "version": 3
   },
   "file_extension": ".py",
   "mimetype": "text/x-python",
   "name": "python",
   "nbconvert_exporter": "python",
   "pygments_lexer": "ipython3",
   "version": "3.8.5"
  }
 },
 "nbformat": 4,
 "nbformat_minor": 4
}
