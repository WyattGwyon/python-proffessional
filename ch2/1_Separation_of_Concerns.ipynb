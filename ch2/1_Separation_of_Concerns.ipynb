{
 "cells": [
  {
   "cell_type": "markdown",
   "metadata": {},
   "source": [
    "### `Clear code` should be separated by `concerns`\n",
    "- A **concern** is a behavior or piece of knowledge your code deals with. \n",
    "- **Concerns** can range in size from maths functions to managing payment systems."
   ]
  },
  {
   "cell_type": "markdown",
   "metadata": {},
   "source": [
    "### `Namespaces`\n",
    "- These point to variables, functions, classes, modules that are imported as <\"namespace\">, filenames.py \n",
    "\n"
   ]
  },
  {
   "cell_type": "code",
   "execution_count": 4,
   "metadata": {},
   "outputs": [],
   "source": [
    "# sales_tax.py \n",
    "# Take 1\n",
    "def add_sales_tax(total, tax_rate):\n",
    "    return total * tax_rate"
   ]
  },
  {
   "cell_type": "markdown",
   "metadata": {},
   "source": [
    "They can be global:"
   ]
  },
  {
   "cell_type": "code",
   "execution_count": 5,
   "metadata": {},
   "outputs": [],
   "source": [
    "# Take 2\n",
    "\n",
    "TAX_RATES_BY_STATE = { # TAX_RATES_BY_STATE is the module's global namespace\n",
    "    'MI': 1.06,\n",
    "    # etc. all state tax info\n",
    "}\n",
    "\n",
    "def add_sales_tax(total, state):\n",
    "    return total * TAX_RATES_BY_STATE[state]  # Code in the modue can use TAX_RATES_BY_STATE with no prob"
   ]
  },
  {
   "cell_type": "markdown",
   "metadata": {},
   "source": [
    "They can be local:"
   ]
  },
  {
   "cell_type": "code",
   "execution_count": 3,
   "metadata": {},
   "outputs": [],
   "source": [
    "# Take 3\n",
    "\n",
    "TAX_RATES_BY_STATE = { \n",
    "    'MI': 1.06,\n",
    "    # etc. all state tax info\n",
    "}\n",
    "\n",
    "def add_sales_tax(total, state):\n",
    "    tax_rate = TAX_RATES_BY_STATE[state]  # tax_rate is only in the local scope for add_sales_tax() \n",
    "    return total * tax_rate               # and also works within the scope of the function"
   ]
  },
  {
   "cell_type": "code",
   "execution_count": null,
   "metadata": {},
   "outputs": [],
   "source": [
    "# If we use a function from another script then we need to import it\n",
    "# reciept.py\n",
    "\n",
    "from sales_tax import add_sales_tax\n",
    "\n",
    "def print_receipt():\n",
    "    total = $$$\n",
    "    state = 'ST'\n",
    "    print(f'TOTAL: {total}')\n",
    "    print(f'AFTER TAX: {add_sales_tax(totatl. state)}')   \n",
    "    # Here add_sales_tax still know about TAX_RATES_BY_STATES and tax_rate from its own namespace "
   ]
  },
  {
   "cell_type": "markdown",
   "metadata": {},
   "source": [
    "One must be true:\n",
    "- name is in built-in Python namespace\n",
    "- name is the current module's global namespace\n",
    "- name is in the current line of code's local namespace.\n",
    "\n",
    "Also, be careful choosing names:\n",
    "- a local name will override a global name, which will override a built-in name\n"
   ]
  },
  {
   "cell_type": "markdown",
   "metadata": {},
   "source": [
    "Modules are useful in breaking up long code that contain a bunch of unrelated functions"
   ]
  },
  {
   "cell_type": "markdown",
   "metadata": {},
   "source": [
    "**Importing**\n",
    "\n",
    "`from sales_tax import add_sales_tax`\n",
    "<br>Only brings the add_sales_tax function to the current module.\n",
    "\n",
    "`from sales_tax import add_sales_tax, add_state_tax, add_city_tax, add_local_millage_tax`\n",
    "<br>Brings in those specific functions from sales_tax to the current module.\n",
    "\n",
    "`from sales_tax import (\n",
    "        add_sales_tax,\n",
    "        add_state_tax,\n",
    "        add_city_tax,\n",
    "        add_local_millage_tax,\n",
    "    )`\n",
    "<br>This is a small improvement for readability.\n",
    "\n",
    "`import sales_tax`\n",
    "<br>This allows you to use more than one function from that module but you must use `sales_tax` as a prefix to the functions\n",
    "\n",
    "For example:\n",
    "<br>`print(f'AFTER MILLAGE: {sales_tax.add_local_millage_tax(total, locale)}')`\n",
    "\n",
    "It is important to use these prefixes in order to avoid **namespace collisions**. \n",
    "\n",
    "`from sales_tax import *`\n",
    "<br>This method also causes **namespace collisions**....... so...... *DON'T USE IT!*"
   ]
  },
  {
   "cell_type": "markdown",
   "metadata": {},
   "source": [
    "*A simple example*\n",
    "<br>`from time import time\n",
    "print(time())`\n",
    "\n",
    "*or*\n",
    "<br>`from datetime import time\n",
    "print(time())`\n",
    "\n",
    "*but*\n",
    "<br>`from time import time\n",
    "from datetime import time\n",
    "print(time())`\n",
    "\n",
    "This `time` is the point of a **namespace collision**. Python only will know about the latter namespace, so it will be call the `datatime.time` not the `time.time`.\n",
    "\n",
    "*This is better*\n",
    "<br>`import time\n",
    "import datetime\n",
    "now = time.time()\n",
    "midnight = datatime.time()`\n",
    "\n",
    "*You could easily create aliases for your imports*\n",
    "<br>`import time as t\n",
    "import datetime as dt\n",
    "now = t.time()\n",
    "midnight = dt.time()`\n"
   ]
  },
  {
   "cell_type": "markdown",
   "metadata": {},
   "source": [
    "![Namespace hierarchies](../images/Fig_2_1.png)"
   ]
  },
  {
   "cell_type": "markdown",
   "metadata": {},
   "source": [
    "**The Unix Philosophy**\n",
    "<br> *'Do one thing and do it well'*\n",
    "\n",
    "\n",
    "When a particular function or class in your code is concerned with a single behaviour, it is eay to improve that code independent of the code that uses it. But if that behavior is duplicated and mixed throughout the code, it creates a problem that improving the behaviour may break your code.\n",
    "\n",
    "We should group like activites together and separate dissimilar activities. This is what a `separation of concerns` means. And that separation also helps us improve certain functions eaily without breaking the program.\n",
    "\n",
    "Just like mathematical functions are named on their simple purpose and combined to perform more complex calculations:\n",
    "<br> Standard deviation first works with finding the difference and then the averages of those differences and then squaring that average of differences and then deriving the squared root....\n",
    "<br> We should write functions that build up complexity from simple processes and name them based on those processes.\n",
    "\n",
    "### *A function wraps a small amount of code and gives is a clear name.*"
   ]
  },
  {
   "cell_type": "markdown",
   "metadata": {},
   "source": [
    "Breaking code into smaller pieces is called `decomposition`. The same way a mushroom breaks down a dead tree into it's smaller molecular compoistions which help those elements to recycle back into other parts of the ecosystem....so should our functions work through out our code."
   ]
  },
  {
   "cell_type": "markdown",
   "metadata": {},
   "source": [
    "Write a program that produces the string 'The Three Stooges: Larry, Curly, and Moe'."
   ]
  },
  {
   "cell_type": "code",
   "execution_count": 10,
   "metadata": {},
   "outputs": [
    {
     "name": "stdout",
     "output_type": "stream",
     "text": [
      "The Three Stooges: Larry, Curly, and Moe\n"
     ]
    }
   ],
   "source": [
    "names = ['Larry', 'Curly', 'Moe']\n",
    "message = 'The Three Stooges: '\n",
    "for index, name in enumerate(names):\n",
    "    if index > 0:\n",
    "        message += ', '\n",
    "    if  index == len(names) - 1:\n",
    "        message += 'and '\n",
    "    message += name\n",
    "print(message)"
   ]
  },
  {
   "cell_type": "markdown",
   "metadata": {},
   "source": [
    "How would you represent the lineup of the Three Stooges once you learn that at different times they had different memebers?"
   ]
  },
  {
   "cell_type": "code",
   "execution_count": 12,
   "metadata": {},
   "outputs": [
    {
     "name": "stdout",
     "output_type": "stream",
     "text": [
      "The Three Stooges: Moe, Larry, and Shemp\n",
      "The Three Stooges: Larry, Curly, and Moe\n"
     ]
    }
   ],
   "source": [
    "names = ['Moe', 'Larry', 'Shemp']\n",
    "message = 'The Three Stooges: '\n",
    "for index, name in enumerate(names):\n",
    "    if index > 0:\n",
    "        message += ', '\n",
    "    if  index == len(names) - 1:\n",
    "        message += 'and '\n",
    "    message += name\n",
    "print(message)\n",
    "\n",
    "names = ['Larry', 'Curly', 'Moe']\n",
    "message = 'The Three Stooges: '\n",
    "for index, name in enumerate(names):\n",
    "    if index > 0:\n",
    "        message += ', '\n",
    "    if  index == len(names) - 1:\n",
    "        message += 'and '\n",
    "    message += name\n",
    "print(message)"
   ]
  },
  {
   "cell_type": "markdown",
   "metadata": {},
   "source": [
    "Perfect, but....we have the same code written twice. <br>**Idea**: We should define a funtcion."
   ]
  },
  {
   "cell_type": "code",
   "execution_count": 13,
   "metadata": {},
   "outputs": [
    {
     "name": "stdout",
     "output_type": "stream",
     "text": [
      "The Three Stooges: Moe, Larry, and Shemp\n",
      "The Three Stooges: Curly, Larry, and Moe\n"
     ]
    }
   ],
   "source": [
    "def introduce_stooges(names):\n",
    "    message = 'The Three Stooges: '\n",
    "    for index, name in enumerate(names):\n",
    "        if index > 0:\n",
    "            message += ', '\n",
    "        if index == len(names) - 1:\n",
    "            message += 'and '\n",
    "        message += name\n",
    "    print(message)\n",
    "    \n",
    "introduce_stooges(['Moe', 'Larry', 'Shemp'])\n",
    "introduce_stooges(['Curly', 'Larry', 'Moe'])"
   ]
  },
  {
   "cell_type": "markdown",
   "metadata": {},
   "source": [
    "<br>**Book Recommended**: *Refactoring* by Martin Fowler and Kent Beck\n",
    "\n",
    "Now can you apply this function to the Teenage Mutant Ninja Turtles? This will test it's `flexibility`.\n",
    "\n",
    "But you find that the function has two concerns:\n",
    "- Knowing that the introduction is for the Thre Stooges\n",
    "- Introduceing a list of names as the stooges\n",
    "\n",
    "How do you generalize the function?"
   ]
  },
  {
   "cell_type": "code",
   "execution_count": 15,
   "metadata": {},
   "outputs": [
    {
     "name": "stdout",
     "output_type": "stream",
     "text": [
      "The Three Stooges: Moe, Larry, and Shemp\n",
      "The Three Stooges: Larry, Curly, and Moe\n",
      "Teenage Mutant Ninja Turtles: Donatello, Raphael, Michelangelo, and Leonardo\n",
      "The Chipmunks: Alvin, Simon, and Theodore\n"
     ]
    }
   ],
   "source": [
    "def introduce(title, names):\n",
    "    message = f'{title}: '\n",
    "    for index, name in enumerate(names):\n",
    "        if index > 0:\n",
    "            message += ', '\n",
    "        if index == len(names)-1:\n",
    "            message += 'and '\n",
    "        message += name\n",
    "    print(message)\n",
    "    \n",
    "introduce('The Three Stooges', ['Moe', 'Larry', 'Shemp'])\n",
    "introduce('The Three Stooges', ['Larry', 'Curly', 'Moe'])\n",
    "introduce('Teenage Mutant Ninja Turtles', ['Donatello', 'Raphael', 'Michelangelo', 'Leonardo'])\n",
    "introduce('The Chipmunks', ['Alvin', 'Simon', 'Theodore'])"
   ]
  },
  {
   "cell_type": "markdown",
   "metadata": {},
   "source": [
    "This function doesn't need to know how to join the names with a comma."
   ]
  },
  {
   "cell_type": "code",
   "execution_count": 20,
   "metadata": {},
   "outputs": [],
   "source": [
    "def join_names(names):  # This fuction will handle how the names are joined\n",
    "    name_string = ''\n",
    "    \n",
    "    for index, name in enumerate(names):\n",
    "        if index > 0:\n",
    "            name_string += ', '\n",
    "        if index == len(names) -1:\n",
    "            name_string += 'and '\n",
    "        name_string += name\n",
    "    return name_string\n",
    "\n",
    "\n",
    "def introduce(title, names):  # Now this will only handle that titles will be joined to names\n",
    "    print(f'{title}: {join_names(names)}')\n",
    "    "
   ]
  },
  {
   "cell_type": "code",
   "execution_count": 21,
   "metadata": {},
   "outputs": [
    {
     "name": "stdout",
     "output_type": "stream",
     "text": [
      "The Three Stooges: Moe, Larry, and Shemp\n",
      "The Three Stooges: Larry, Curly, and Moe\n",
      "Teenage Mutant Ninja Turtles: Donatello, Raphael, Michelangelo, and Leonardo\n",
      "The Chipmunks: Alvin, Simon, and Theodore\n"
     ]
    }
   ],
   "source": [
    "introduce('The Three Stooges', ['Moe', 'Larry', 'Shemp'])\n",
    "introduce('The Three Stooges', ['Larry', 'Curly', 'Moe'])\n",
    "introduce('Teenage Mutant Ninja Turtles', ['Donatello', 'Raphael', 'Michelangelo', 'Leonardo'])\n",
    "introduce('The Chipmunks', ['Alvin', 'Simon', 'Theodore'])"
   ]
  },
  {
   "cell_type": "markdown",
   "metadata": {},
   "source": [
    "Now we must turn this into a series of function that are separated by behavior."
   ]
  },
  {
   "cell_type": "code",
   "execution_count": 23,
   "metadata": {},
   "outputs": [
    {
     "name": "stdout",
     "output_type": "stream",
     "text": [
      "(1) Rock\n",
      "(2) Paper\n",
      "(3) Scissors\n",
      "Enter the number of your choice: 1\n",
      "You chose rock\n",
      "The computer chose rock\n",
      "Draw!\n"
     ]
    }
   ],
   "source": [
    "import random\n",
    "options = ['rock', 'paper', 'scissors']\n",
    "print('(1) Rock\\n(2) Paper\\n(3) Scissors')\n",
    "human_choice = options[int(input('Enter the number of your choice: ')) - 1] \n",
    "print(f'You chose {human_choice}')\n",
    "computer_choice = random.choice(options)\n",
    "print(f'The computer chose {computer_choice}')\n",
    "if human_choice == 'rock':\n",
    "    if computer_choice == 'paper':\n",
    "        print('Sorry, paper beat rock')\n",
    "    elif computer_choice == 'scissors':\n",
    "        print('Yes, rock beat scissors!')\n",
    "    else:\n",
    "        print('Draw!')\n",
    "elif human_choice == 'paper':\n",
    "    if computer_choice == 'scissors':\n",
    "        print('Sorry, scissors beat paper')\n",
    "    elif computer_choice == 'rock':\n",
    "        print('Yes, paper beat rock!')\n",
    "    else:\n",
    "        print('Draw!')\n",
    "elif human_choice == 'scissors':\n",
    "    if computer_choice == 'rock':\n",
    "        print('Sorry, rock beat scissors')\n",
    "    elif computer_choice == 'paper':\n",
    "        print('Yes, scissors beat paper!')\n",
    "    else:\n",
    "        print('Draw!')\n"
   ]
  },
  {
   "cell_type": "code",
   "execution_count": 60,
   "metadata": {},
   "outputs": [],
   "source": [
    "# We are going to take a hint from the join function we had before\n",
    "def join_items(items, separator, final_separator): # the separator is literal so if you want spaces you need to indicate the spaces\n",
    "    name_string = ''\n",
    "    \n",
    "    for index, item in enumerate(items):\n",
    "        if index > 0:\n",
    "            name_string += separator\n",
    "        if index == len(items) - 1:\n",
    "            name_string += final_separator\n",
    "        name_string += item\n",
    "    return name_string"
   ]
  },
  {
   "cell_type": "code",
   "execution_count": 119,
   "metadata": {},
   "outputs": [],
   "source": [
    "items = ['Rock', 'Paper', 'Scissors']"
   ]
  },
  {
   "cell_type": "code",
   "execution_count": 69,
   "metadata": {},
   "outputs": [
    {
     "data": {
      "text/plain": [
       "'Rock, Paper, and Scissors'"
      ]
     },
     "execution_count": 69,
     "metadata": {},
     "output_type": "execute_result"
    }
   ],
   "source": [
    "join_items(items, ', ', 'and ')"
   ]
  },
  {
   "cell_type": "code",
   "execution_count": 76,
   "metadata": {},
   "outputs": [
    {
     "name": "stdout",
     "output_type": "stream",
     "text": [
      "(1) Rock\n",
      "(2) Paper\n",
      "(3) Scissors\n"
     ]
    }
   ],
   "source": [
    "# But if we want to emulate the output of the program...\n",
    "def numbered_list(items):\n",
    "    for index, item in enumerate(items):  \n",
    "        print(f'({index+1}) {item}') \n",
    "        \n",
    "numbered_list(items)"
   ]
  },
  {
   "cell_type": "code",
   "execution_count": 71,
   "metadata": {},
   "outputs": [
    {
     "name": "stdout",
     "output_type": "stream",
     "text": [
      "(1) Donatello\n",
      "(2) Raphael\n",
      "(3) Michelangelo\n",
      "(4) Leonardo\n"
     ]
    }
   ],
   "source": [
    "# Now it is generalized and flexible\n",
    "turtles = ['Donatello', 'Raphael', 'Michelangelo', 'Leonardo']\n",
    "numbered_list(turtles)"
   ]
  },
  {
   "cell_type": "code",
   "execution_count": 221,
   "metadata": {},
   "outputs": [],
   "source": [
    "# I have never really liked the way While and try/except combine...\n",
    "# I always seem to get the logic wrong, and it does something very important \n",
    "# Ironicaly the mechanism that catches errors always contains an error that I cannot get my head around\n",
    "# The results is a function that isn't very elegantbut works exactly how I want it to.\n",
    "# It takes a list uses the function to print that list and provides the user with a limited choice from that list.\n",
    "\n",
    "def human_turn(items):\n",
    "    \n",
    "    numbered_list(items) # This function prints the options to choose from\n",
    "    msg = f\"Enter an integer between 1 and {len(items)}: \"\n",
    "    valid = False\n",
    "    \n",
    "    # All the error checking happens here\n",
    "    while not valid: # While not \"False\" \n",
    "        x = input(msg)\n",
    "        try:\n",
    "            x = int(x)\n",
    "        except ValueError:\n",
    "            msg = \"Please enter integer values only: \"\n",
    "        else:\n",
    "            valid = 0 < x <= len(items)\n",
    "            if not valid: # If still not \"False\"\n",
    "                msg = f\"Sorry, {x} is not an option.\\nPlease choose an integer between 1 and {len(items)}: \"\n",
    "\n",
    "    human_choice = items[x-1]  # We save the results as the item name\n",
    "    print(f\"Perfect! You have entered {x}, and have chosen....{items[x-1]}!!\")\n",
    "    return human_choice\n"
   ]
  },
  {
   "cell_type": "code",
   "execution_count": 207,
   "metadata": {},
   "outputs": [
    {
     "name": "stdout",
     "output_type": "stream",
     "text": [
      "(1) Rock\n",
      "(2) Paper\n",
      "(3) Scissors\n",
      "Enter an integer between 1 and 3: 1\n",
      "Perfect! You have entered 1, and have chosen....Rock!!\n",
      "Prepare for battle!!\n"
     ]
    }
   ],
   "source": [
    "# If we save this to a variable then we can\n",
    "human_choice = human_choice_error_check(items)"
   ]
  },
  {
   "cell_type": "code",
   "execution_count": 208,
   "metadata": {},
   "outputs": [
    {
     "data": {
      "text/plain": [
       "'Rock'"
      ]
     },
     "execution_count": 208,
     "metadata": {},
     "output_type": "execute_result"
    }
   ],
   "source": [
    "human_choice"
   ]
  },
  {
   "cell_type": "markdown",
   "metadata": {},
   "source": [
    "We have the game's preliminaries handled nicely with a single function that imports a much simpler function, both passing the same argument."
   ]
  },
  {
   "cell_type": "code",
   "execution_count": 219,
   "metadata": {},
   "outputs": [],
   "source": [
    "def computer_turn(items):\n",
    "    import random\n",
    "    computer_choice = random.choice(items)\n",
    "    print(f'....and the computer chose....{computer_choice}!?\\nPrepare for battle!! ')\n",
    "    return computer_choice"
   ]
  },
  {
   "cell_type": "code",
   "execution_count": 211,
   "metadata": {},
   "outputs": [
    {
     "name": "stdout",
     "output_type": "stream",
     "text": [
      "The computer chose Paper\n"
     ]
    }
   ],
   "source": [
    "computer_choice = computer_turn(items)"
   ]
  },
  {
   "cell_type": "code",
   "execution_count": 212,
   "metadata": {},
   "outputs": [
    {
     "data": {
      "text/plain": [
       "'Paper'"
      ]
     },
     "execution_count": 212,
     "metadata": {},
     "output_type": "execute_result"
    }
   ],
   "source": [
    "computer_choice"
   ]
  },
  {
   "cell_type": "code",
   "execution_count": 300,
   "metadata": {},
   "outputs": [],
   "source": [
    "# This is not optimal because there are so many repeated lines of code \n",
    "# and trying to make adjustments is not easy and it is not flexible at all\n",
    "\n",
    "def rps_resolver(human_choice, computer_choice):    \n",
    "    \n",
    "    if human_choice == 'Rock':\n",
    "        if computer_choice == 'Paper':\n",
    "            result = 'Sorry, Paper beats Rock'\n",
    "        elif computer_choice == 'Scissors':\n",
    "            result = 'Yes, Rock beats Scissors!'\n",
    "        else:\n",
    "            result = 'Draw!'\n",
    "        \n",
    "    elif human_choice == 'Paper':\n",
    "        if computer_choice == 'Scissors':\n",
    "            result = 'Sorry, Scissors beat Paper'\n",
    "        elif computer_choice == 'Rock':\n",
    "            result = 'Yes, P2\n",
    "            aper beats Rock!'\n",
    "        else:\n",
    "            result = 'Draw!'\n",
    "        \n",
    "    elif human_choice == 'Scissors':\n",
    "        if computer_choice == 'Rock':\n",
    "            result = 'Sorry, Rock beats Scissors'\n",
    "        elif computer_choice == 'Paper':\n",
    "            result = 'Yes, Scissors beat Paper!'\n",
    "        else:\n",
    "            result = 'Draw!'\n",
    "    \n",
    "    return print(result)"
   ]
  },
  {
   "cell_type": "code",
   "execution_count": 308,
   "metadata": {},
   "outputs": [],
   "source": [
    "def play_rockpaperscissors(items):\n",
    "    human_choice = human_turn(items)\n",
    "    computer_choice = computer_turn(items)\n",
    "    rps_resolver(human_choice, computer_choice)"
   ]
  },
  {
   "cell_type": "code",
   "execution_count": 309,
   "metadata": {},
   "outputs": [
    {
     "name": "stdout",
     "output_type": "stream",
     "text": [
      "(1) Rock\n",
      "(2) Paper\n",
      "(3) Scissors\n",
      "Enter an integer between 1 and 3: 3\n",
      "Perfect! You have entered 3, and have chosen....Scissors!!\n",
      "....and the computer chose....Rock!?\n",
      "Prepare for battle!! \n",
      "Sorry, Rock beats Scissors\n"
     ]
    }
   ],
   "source": [
    "play_rockpaperscissors(items)"
   ]
  },
  {
   "cell_type": "markdown",
   "metadata": {},
   "source": [
    "***The author's solution***"
   ]
  },
  {
   "cell_type": "code",
   "execution_count": 307,
   "metadata": {},
   "outputs": [
    {
     "name": "stdout",
     "output_type": "stream",
     "text": [
      "(0) Rock\n",
      "(1) Paper\n",
      "(2) Scissors\n",
      "Enter the number of your choice: 3\n",
      "You chose scissors\n",
      "The computer chose rock\n",
      "Sorry, rock beats scissors\n"
     ]
    }
   ],
   "source": [
    "import random\n",
    "\n",
    "OPTIONS = ['rock', 'paper', 'scissors']\n",
    "\n",
    "\n",
    "def get_computer_choice():\n",
    "    return random.choice(OPTIONS)\n",
    "\n",
    "\n",
    "def get_human_choice():\n",
    "    choice_number = int(input('Enter the number of your choice: '))\n",
    "    return OPTIONS[choice_number - 1]\n",
    "\n",
    "\n",
    "def print_options():\n",
    "    print('\\n'.join(f'({i}) {option.title()}' for i, option in enumerate(OPTIONS)))\n",
    "    \n",
    "\n",
    "def print_choices(human_choice, computer_choice):\n",
    "    print(f'You chose {human_choice}')\n",
    "    print(f'The computer chose {computer_choice}')\n",
    "    \n",
    "    \n",
    "def print_win_lose(human_choice, computer_choice, human_beats, human_loses_to):\n",
    "    if computer_choice == human_loses_to:\n",
    "        print(f'Sorry, {computer_choice} beats {human_choice}')\n",
    "    elif computer_choice == human_beats:\n",
    "        print(f'Yes, {human_choice} beats {computer_choice}!')\n",
    "        \n",
    "\n",
    "def print_result(human_choice, computer_choice):\n",
    "    if human_choice == computer_choice:\n",
    "        print('Draw')\n",
    "        \n",
    "    if human_choice == 'rock':\n",
    "        print_win_lose('rock', computer_choice, 'scissors', 'paper')\n",
    "    elif human_choice == 'paper':\n",
    "        print_win_lose('paper', computer_choice, 'rock', 'scissors')\n",
    "    elif human_choice == 'scissors':\n",
    "        print_win_lose('scissors', computer_choice, 'paper', 'rock')\n",
    "        \n",
    "\n",
    "print_options()\n",
    "human_choice = get_human_choice()\n",
    "computer_choice = get_computer_choice()\n",
    "print_choices(human_choice, computer_choice)\n",
    "print_result(human_choice, computer_choice)"
   ]
  },
  {
   "cell_type": "markdown",
   "metadata": {},
   "source": [
    "There are a few good lessons for me here:\n",
    "- the `print_win_lose` function does what I imagined I needed to do but in a way that I didn't expect and it is flexible to boot. I need to take special note of it. I see that the kwargs are used to hold the value of the winning and losing pieces. This funtcion is used by another function `print_result` which defines the winning and losing combination that are determined by the human choice and passes the `computer_choice`.\n",
    "- I was on the right track on most points but I need to `import random` outside the scope of the function...why exactly...I don't know.\n",
    "- The author's solution does not catch the error if an out of range number is entered...but that was what I ended up doing. I like mine better but there is not a more elegant example. We have to continue the hunt."
   ]
  },
  {
   "cell_type": "code",
   "execution_count": 317,
   "metadata": {},
   "outputs": [
    {
     "name": "stdout",
     "output_type": "stream",
     "text": [
      "(1) Rock\n",
      "(2) Paper\n",
      "(3) Scissors\n",
      "Enter an integer between 1 and 3: 3\n",
      "Perfect! You have entered 3, and have chosen....Scissors!!\n",
      "....and the computer chose....Paper!?\n",
      "Prepare for battle!! \n",
      "Yes, scissors beats paper!\n"
     ]
    }
   ],
   "source": [
    "import random\n",
    "\n",
    "items = ['Rock', 'Paper', 'Scissors']\n",
    "\n",
    "\n",
    "def numbered_list(items):\n",
    "    for index, item in enumerate(items):  \n",
    "        print(f'({index+1}) {item}') \n",
    "\n",
    "\n",
    "        \n",
    "def human_turn(items):\n",
    "    \n",
    "    numbered_list(items) # This function prints the options to choose from\n",
    "    msg = f\"Enter an integer between 1 and {len(items)}: \"\n",
    "    valid = False\n",
    "    \n",
    "    # All the error checking happens here\n",
    "    while not valid: # While not \"False\" \n",
    "        x = input(msg)\n",
    "        try:\n",
    "            x = int(x)\n",
    "        except ValueError:\n",
    "            msg = \"Please enter integer values only: \"\n",
    "        else:\n",
    "            valid = 0 < x <= len(items)\n",
    "            if not valid: # If still not \"False\"\n",
    "                msg = f\"Sorry, {x} is not an option.\\nPlease choose an integer between 1 and {len(items)}: \"\n",
    "\n",
    "    human_choice = items[x-1]  # We save the results as the item name\n",
    "    print(f\"Perfect! You have entered {x}, and have chosen....{items[x-1]}!!\")\n",
    "    return human_choice\n",
    "\n",
    "\n",
    "\n",
    "def print_win_lose(human_choice, computer_choice, human_beats, human_loses_to):\n",
    "    if computer_choice == human_loses_to:\n",
    "        print(f'Sorry, {computer_choice} beats {human_choice}')\n",
    "    elif computer_choice == human_beats:\n",
    "        print(f'Yes, {human_choice} beats {computer_choice}!')\n",
    "\n",
    "        \n",
    "# The names are case sensitive....so best to fix it with a lowercase method....        \n",
    "def print_result(human_choice, computer_choice):\n",
    "    if human_choice == computer_choice:\n",
    "        print(\"Oooh....that's a Draw, son!\\nYou'll have to try again.\")\n",
    "        \n",
    "    if human_choice.lower() == 'rock':\n",
    "        print_win_lose('rock', computer_choice.lower(), 'scissors', 'paper')\n",
    "    elif human_choice.lower() == 'paper':\n",
    "        print_win_lose('paper', computer_choice.lower(), 'rock', 'scissors')\n",
    "    elif human_choice.lower() == 'scissors':\n",
    "        print_win_lose('scissors', computer_choice.lower(), 'paper', 'rock')\n",
    "        \n",
    "\n",
    "        \n",
    "human_choice = human_turn(items)\n",
    "computer_choice = computer_turn(items)\n",
    "print_result(human_choice, computer_choice)"
   ]
  },
  {
   "cell_type": "markdown",
   "metadata": {},
   "source": [
    "**Continued in Part 2...**"
   ]
  }
 ],
 "metadata": {
  "kernelspec": {
   "display_name": "Python 3",
   "language": "python",
   "name": "python3"
  },
  "language_info": {
   "codemirror_mode": {
    "name": "ipython",
    "version": 3
   },
   "file_extension": ".py",
   "mimetype": "text/x-python",
   "name": "python",
   "nbconvert_exporter": "python",
   "pygments_lexer": "ipython3",
   "version": "3.8.5"
  }
 },
 "nbformat": 4,
 "nbformat_minor": 4
}
